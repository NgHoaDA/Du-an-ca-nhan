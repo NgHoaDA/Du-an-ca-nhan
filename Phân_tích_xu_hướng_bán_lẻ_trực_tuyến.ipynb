{
  "nbformat": 4,
  "nbformat_minor": 0,
  "metadata": {
    "colab": {
      "provenance": [],
      "mount_file_id": "1mHFBuQIPpFCDBi25HH2d0PjnHO4Wn1QN",
      "authorship_tag": "ABX9TyPDfmj83ewG4dB1J7SyD1ED",
      "include_colab_link": true
    },
    "kernelspec": {
      "name": "python3",
      "display_name": "Python 3"
    },
    "language_info": {
      "name": "python"
    }
  },
  "cells": [
    {
      "cell_type": "markdown",
      "metadata": {
        "id": "view-in-github",
        "colab_type": "text"
      },
      "source": [
        "<a href=\"https://colab.research.google.com/github/NgHoaDA/NgHoaDA/blob/main/Ph%C3%A2n_t%C3%ADch_xu_h%C6%B0%E1%BB%9Bng_b%C3%A1n_l%E1%BA%BB_tr%E1%BB%B1c_tuy%E1%BA%BFn.ipynb\" target=\"_parent\"><img src=\"https://colab.research.google.com/assets/colab-badge.svg\" alt=\"Open In Colab\"/></a>"
      ]
    },
    {
      "cell_type": "markdown",
      "source": [
        "### 👨‍💻Importing The Libraries👨‍💻"
      ],
      "metadata": {
        "id": "s2uEDGIRsUpS"
      }
    },
    {
      "cell_type": "code",
      "execution_count": null,
      "metadata": {
        "colab": {
          "base_uri": "https://localhost:8080/"
        },
        "id": "cgCoifUXlMRh",
        "outputId": "67d12334-56aa-4ded-8e03-7704baf6c35d"
      },
      "outputs": [
        {
          "output_type": "stream",
          "name": "stderr",
          "text": [
            "<ipython-input-24-e91b8758e284>:11: DeprecationWarning: `np.math` is a deprecated alias for the standard library `math` module (Deprecated Numpy 1.25). Replace usages of `np.math` with `math`\n",
            "  from numpy import math\n"
          ]
        }
      ],
      "source": [
        "import pandas as pd\n",
        "import numpy as np\n",
        "import datetime as dt\n",
        "import seaborn as sns\n",
        "import matplotlib\n",
        "%matplotlib inline\n",
        "import matplotlib.pyplot as plt\n",
        "from sklearn.cluster import KMeans\n",
        "from sklearn.preprocessing import StandardScaler\n",
        "from yellowbrick.cluster import KElbowVisualizer\n",
        "from numpy import math\n",
        "import warnings\n",
        "warnings.simplefilter(action='ignore', category=FutureWarning)"
      ]
    },
    {
      "cell_type": "markdown",
      "source": [
        "### 👨‍💻Loading and Reading the Dataset 👨‍💻\n"
      ],
      "metadata": {
        "id": "WJf3n7RAscL8"
      }
    },
    {
      "cell_type": "code",
      "source": [
        "#lETS READ THE DATASET...\n",
        "data = pd.read_csv(\"/content/drive/MyDrive/Colab Notebooks/DataSet/online_retail_II.csv\")\n",
        "print(\"-\"*50)\n",
        "print(\" Data imported successfully!!\")\n",
        "data.head(3).style.set_properties(**{\"background-color\": \"#cd5c5c\",\"color\": \"black\", \"border-color\": \"black\"})"
      ],
      "metadata": {
        "colab": {
          "base_uri": "https://localhost:8080/",
          "height": 178
        },
        "id": "BcLZMWHzn5AX",
        "outputId": "b6f39e10-8f31-4910-f545-3dfead80fa84"
      },
      "execution_count": null,
      "outputs": [
        {
          "output_type": "stream",
          "name": "stdout",
          "text": [
            "--------------------------------------------------\n",
            " Data imported successfully!!\n"
          ]
        },
        {
          "output_type": "execute_result",
          "data": {
            "text/plain": [
              "<pandas.io.formats.style.Styler at 0x7e33faa36cb0>"
            ],
            "text/html": [
              "<style type=\"text/css\">\n",
              "#T_949f5_row0_col0, #T_949f5_row0_col1, #T_949f5_row0_col2, #T_949f5_row0_col3, #T_949f5_row0_col4, #T_949f5_row0_col5, #T_949f5_row0_col6, #T_949f5_row0_col7, #T_949f5_row1_col0, #T_949f5_row1_col1, #T_949f5_row1_col2, #T_949f5_row1_col3, #T_949f5_row1_col4, #T_949f5_row1_col5, #T_949f5_row1_col6, #T_949f5_row1_col7, #T_949f5_row2_col0, #T_949f5_row2_col1, #T_949f5_row2_col2, #T_949f5_row2_col3, #T_949f5_row2_col4, #T_949f5_row2_col5, #T_949f5_row2_col6, #T_949f5_row2_col7 {\n",
              "  background-color: #cd5c5c;\n",
              "  color: black;\n",
              "  border-color: black;\n",
              "}\n",
              "</style>\n",
              "<table id=\"T_949f5\" class=\"dataframe\">\n",
              "  <thead>\n",
              "    <tr>\n",
              "      <th class=\"blank level0\" >&nbsp;</th>\n",
              "      <th id=\"T_949f5_level0_col0\" class=\"col_heading level0 col0\" >Invoice</th>\n",
              "      <th id=\"T_949f5_level0_col1\" class=\"col_heading level0 col1\" >StockCode</th>\n",
              "      <th id=\"T_949f5_level0_col2\" class=\"col_heading level0 col2\" >Description</th>\n",
              "      <th id=\"T_949f5_level0_col3\" class=\"col_heading level0 col3\" >Quantity</th>\n",
              "      <th id=\"T_949f5_level0_col4\" class=\"col_heading level0 col4\" >InvoiceDate</th>\n",
              "      <th id=\"T_949f5_level0_col5\" class=\"col_heading level0 col5\" >Price</th>\n",
              "      <th id=\"T_949f5_level0_col6\" class=\"col_heading level0 col6\" >Customer ID</th>\n",
              "      <th id=\"T_949f5_level0_col7\" class=\"col_heading level0 col7\" >Country</th>\n",
              "    </tr>\n",
              "  </thead>\n",
              "  <tbody>\n",
              "    <tr>\n",
              "      <th id=\"T_949f5_level0_row0\" class=\"row_heading level0 row0\" >0</th>\n",
              "      <td id=\"T_949f5_row0_col0\" class=\"data row0 col0\" >489434</td>\n",
              "      <td id=\"T_949f5_row0_col1\" class=\"data row0 col1\" >85048</td>\n",
              "      <td id=\"T_949f5_row0_col2\" class=\"data row0 col2\" >15CM CHRISTMAS GLASS BALL 20 LIGHTS</td>\n",
              "      <td id=\"T_949f5_row0_col3\" class=\"data row0 col3\" >12</td>\n",
              "      <td id=\"T_949f5_row0_col4\" class=\"data row0 col4\" >2009-12-01 07:45:00</td>\n",
              "      <td id=\"T_949f5_row0_col5\" class=\"data row0 col5\" >6.950000</td>\n",
              "      <td id=\"T_949f5_row0_col6\" class=\"data row0 col6\" >13085.000000</td>\n",
              "      <td id=\"T_949f5_row0_col7\" class=\"data row0 col7\" >United Kingdom</td>\n",
              "    </tr>\n",
              "    <tr>\n",
              "      <th id=\"T_949f5_level0_row1\" class=\"row_heading level0 row1\" >1</th>\n",
              "      <td id=\"T_949f5_row1_col0\" class=\"data row1 col0\" >489434</td>\n",
              "      <td id=\"T_949f5_row1_col1\" class=\"data row1 col1\" >79323P</td>\n",
              "      <td id=\"T_949f5_row1_col2\" class=\"data row1 col2\" >PINK CHERRY LIGHTS</td>\n",
              "      <td id=\"T_949f5_row1_col3\" class=\"data row1 col3\" >12</td>\n",
              "      <td id=\"T_949f5_row1_col4\" class=\"data row1 col4\" >2009-12-01 07:45:00</td>\n",
              "      <td id=\"T_949f5_row1_col5\" class=\"data row1 col5\" >6.750000</td>\n",
              "      <td id=\"T_949f5_row1_col6\" class=\"data row1 col6\" >13085.000000</td>\n",
              "      <td id=\"T_949f5_row1_col7\" class=\"data row1 col7\" >United Kingdom</td>\n",
              "    </tr>\n",
              "    <tr>\n",
              "      <th id=\"T_949f5_level0_row2\" class=\"row_heading level0 row2\" >2</th>\n",
              "      <td id=\"T_949f5_row2_col0\" class=\"data row2 col0\" >489434</td>\n",
              "      <td id=\"T_949f5_row2_col1\" class=\"data row2 col1\" >79323W</td>\n",
              "      <td id=\"T_949f5_row2_col2\" class=\"data row2 col2\" > WHITE CHERRY LIGHTS</td>\n",
              "      <td id=\"T_949f5_row2_col3\" class=\"data row2 col3\" >12</td>\n",
              "      <td id=\"T_949f5_row2_col4\" class=\"data row2 col4\" >2009-12-01 07:45:00</td>\n",
              "      <td id=\"T_949f5_row2_col5\" class=\"data row2 col5\" >6.750000</td>\n",
              "      <td id=\"T_949f5_row2_col6\" class=\"data row2 col6\" >13085.000000</td>\n",
              "      <td id=\"T_949f5_row2_col7\" class=\"data row2 col7\" >United Kingdom</td>\n",
              "    </tr>\n",
              "  </tbody>\n",
              "</table>\n"
            ]
          },
          "metadata": {},
          "execution_count": 25
        }
      ]
    },
    {
      "cell_type": "markdown",
      "source": [
        "### 👨‍💻Exploring Information of the Dataset 👨‍💻"
      ],
      "metadata": {
        "id": "7UO0bdPSshFT"
      }
    },
    {
      "cell_type": "code",
      "source": [
        "pd.set_option('display.max_columns', None)\n",
        "def data_overview(df, head=5):\n",
        "    print(\" SHAPE OF DATASET \".center(125,'-'))\n",
        "    print('Rows:{}'.format(df.shape[0]))\n",
        "    print('Columns:{}'.format(df.shape[1]))\n",
        "    print(\" HEAD \".center(125,'-'))\n",
        "    print(df.head(head))\n",
        "    print(\"DATA TYPES\".center(125,'-'))\n",
        "    print(data.dtypes.value_counts())\n",
        "    print(\" MISSING VALUES \".center(125,'-'))\n",
        "    print(df.isnull().sum()[df.isnull().sum()>0].sort_values(ascending = False))\n",
        "    print(\" DUPLICATED VALUES \".center(125,'-'))\n",
        "    print(df.duplicated().sum())\n",
        "    print(\" STATISTICS OF DATA \".center(125,'-'))\n",
        "    print(df.describe(include=\"all\"))\n",
        "    print(\"DATA INFO\".center(125,'-'))\n",
        "    print(df.info())\n",
        "\n",
        "\n",
        "data_overview(data)"
      ],
      "metadata": {
        "colab": {
          "base_uri": "https://localhost:8080/"
        },
        "id": "ngQo36mooQBk",
        "outputId": "7c7cbc56-1c17-4a33-a03d-8d6bcfaa56ea"
      },
      "execution_count": null,
      "outputs": [
        {
          "output_type": "stream",
          "name": "stdout",
          "text": [
            "------------------------------------------------------ SHAPE OF DATASET -----------------------------------------------------\n",
            "Rows:1067371\n",
            "Columns:8\n",
            "------------------------------------------------------------ HEAD -----------------------------------------------------------\n",
            "  Invoice StockCode                          Description  Quantity  \\\n",
            "0  489434     85048  15CM CHRISTMAS GLASS BALL 20 LIGHTS        12   \n",
            "1  489434    79323P                   PINK CHERRY LIGHTS        12   \n",
            "2  489434    79323W                  WHITE CHERRY LIGHTS        12   \n",
            "3  489434     22041         RECORD FRAME 7\" SINGLE SIZE         48   \n",
            "4  489434     21232       STRAWBERRY CERAMIC TRINKET BOX        24   \n",
            "\n",
            "           InvoiceDate  Price  Customer ID         Country  \n",
            "0  2009-12-01 07:45:00   6.95      13085.0  United Kingdom  \n",
            "1  2009-12-01 07:45:00   6.75      13085.0  United Kingdom  \n",
            "2  2009-12-01 07:45:00   6.75      13085.0  United Kingdom  \n",
            "3  2009-12-01 07:45:00   2.10      13085.0  United Kingdom  \n",
            "4  2009-12-01 07:45:00   1.25      13085.0  United Kingdom  \n",
            "----------------------------------------------------------DATA TYPES---------------------------------------------------------\n",
            "object     5\n",
            "float64    2\n",
            "int64      1\n",
            "dtype: int64\n",
            "------------------------------------------------------- MISSING VALUES ------------------------------------------------------\n",
            "Customer ID    243007\n",
            "Description      4382\n",
            "dtype: int64\n",
            "----------------------------------------------------- DUPLICATED VALUES -----------------------------------------------------\n",
            "34335\n",
            "----------------------------------------------------- STATISTICS OF DATA ----------------------------------------------------\n",
            "        Invoice StockCode                         Description      Quantity  \\\n",
            "count   1067371   1067371                             1062989  1.067371e+06   \n",
            "unique    53628      5305                                5698           NaN   \n",
            "top      537434    85123A  WHITE HANGING HEART T-LIGHT HOLDER           NaN   \n",
            "freq       1350      5829                                5918           NaN   \n",
            "mean        NaN       NaN                                 NaN  9.938898e+00   \n",
            "std         NaN       NaN                                 NaN  1.727058e+02   \n",
            "min         NaN       NaN                                 NaN -8.099500e+04   \n",
            "25%         NaN       NaN                                 NaN  1.000000e+00   \n",
            "50%         NaN       NaN                                 NaN  3.000000e+00   \n",
            "75%         NaN       NaN                                 NaN  1.000000e+01   \n",
            "max         NaN       NaN                                 NaN  8.099500e+04   \n",
            "\n",
            "                InvoiceDate         Price    Customer ID         Country  \n",
            "count               1067371  1.067371e+06  824364.000000         1067371  \n",
            "unique                47635           NaN            NaN              43  \n",
            "top     2010-12-06 16:57:00           NaN            NaN  United Kingdom  \n",
            "freq                   1350           NaN            NaN          981330  \n",
            "mean                    NaN  4.649388e+00   15324.638504             NaN  \n",
            "std                     NaN  1.235531e+02    1697.464450             NaN  \n",
            "min                     NaN -5.359436e+04   12346.000000             NaN  \n",
            "25%                     NaN  1.250000e+00   13975.000000             NaN  \n",
            "50%                     NaN  2.100000e+00   15255.000000             NaN  \n",
            "75%                     NaN  4.150000e+00   16797.000000             NaN  \n",
            "max                     NaN  3.897000e+04   18287.000000             NaN  \n",
            "----------------------------------------------------------DATA INFO----------------------------------------------------------\n",
            "<class 'pandas.core.frame.DataFrame'>\n",
            "RangeIndex: 1067371 entries, 0 to 1067370\n",
            "Data columns (total 8 columns):\n",
            " #   Column       Non-Null Count    Dtype  \n",
            "---  ------       --------------    -----  \n",
            " 0   Invoice      1067371 non-null  object \n",
            " 1   StockCode    1067371 non-null  object \n",
            " 2   Description  1062989 non-null  object \n",
            " 3   Quantity     1067371 non-null  int64  \n",
            " 4   InvoiceDate  1067371 non-null  object \n",
            " 5   Price        1067371 non-null  float64\n",
            " 6   Customer ID  824364 non-null   float64\n",
            " 7   Country      1067371 non-null  object \n",
            "dtypes: float64(2), int64(1), object(5)\n",
            "memory usage: 65.1+ MB\n",
            "None\n"
          ]
        }
      ]
    },
    {
      "cell_type": "markdown",
      "source": [
        "###👨‍💻Data Wrangling👨‍💻"
      ],
      "metadata": {
        "id": "mQZ_92ges-kS"
      }
    },
    {
      "cell_type": "markdown",
      "source": [
        "####1️⃣Dealing with Missing values"
      ],
      "metadata": {
        "id": "3urToD5NtHlb"
      }
    },
    {
      "cell_type": "code",
      "source": [
        "#  Removing NaN's in Customer ID\n",
        "print(\"Shape of data before removing NaN's CustomerID\",data.shape)\n",
        "data.dropna(subset=\"Customer ID\",axis=0,inplace=True)\n",
        "print(\"Shape of data after removing NaN's CustomerID\",data.shape)"
      ],
      "metadata": {
        "colab": {
          "base_uri": "https://localhost:8080/"
        },
        "id": "fOEA-sXbpQZg",
        "outputId": "38a76bbf-a111-416e-bc3f-441126824f4b"
      },
      "execution_count": null,
      "outputs": [
        {
          "output_type": "stream",
          "name": "stdout",
          "text": [
            "Shape of data before removing NaN's CustomerID (1067371, 8)\n",
            "Shape of data after removing NaN's CustomerID (824364, 8)\n"
          ]
        }
      ]
    },
    {
      "cell_type": "code",
      "source": [
        "print(\"Missing values in each column after cleaning customerID :\\n\",data.isnull().sum())"
      ],
      "metadata": {
        "colab": {
          "base_uri": "https://localhost:8080/"
        },
        "id": "4rllHC_zpWoy",
        "outputId": "882f5c01-630d-4648-cd8f-bc91ded137f6"
      },
      "execution_count": null,
      "outputs": [
        {
          "output_type": "stream",
          "name": "stdout",
          "text": [
            "Missing values in each column after cleaning customerID :\n",
            " Invoice        0\n",
            "StockCode      0\n",
            "Description    0\n",
            "Quantity       0\n",
            "InvoiceDate    0\n",
            "Price          0\n",
            "Customer ID    0\n",
            "Country        0\n",
            "dtype: int64\n"
          ]
        }
      ]
    },
    {
      "cell_type": "markdown",
      "source": [
        "####2️⃣Removing cancelled products from invoice"
      ],
      "metadata": {
        "id": "695oT3f9tW2K"
      }
    },
    {
      "cell_type": "code",
      "source": [
        "#using one's compliment operator (~) we can unselect all the Invoice column which doesnt contain \"C\".\n",
        "data = data[~data.Invoice.str.contains('C',na=False)]\n",
        "print(\"Dataset is free from cancelled products information\")"
      ],
      "metadata": {
        "colab": {
          "base_uri": "https://localhost:8080/"
        },
        "id": "BGhbKk27psgi",
        "outputId": "85601b12-4a8e-4962-cacc-fcc9cdf2b0ee"
      },
      "execution_count": null,
      "outputs": [
        {
          "output_type": "stream",
          "name": "stdout",
          "text": [
            "Dataset is free from cancelled products information\n"
          ]
        }
      ]
    },
    {
      "cell_type": "markdown",
      "source": [
        "####3️⃣Removing Duplicates"
      ],
      "metadata": {
        "id": "QGr_9xWbtbXp"
      }
    },
    {
      "cell_type": "code",
      "source": [
        "# Removing duplicates (Values in all columns are identical)\n",
        "print(\"Number of duplicates before cleaning:\",data.duplicated().sum())\n",
        "data = data.drop_duplicates(keep=\"first\")\n",
        "print(\"Number of duplicates after cleaning:\",data.duplicated().sum())"
      ],
      "metadata": {
        "colab": {
          "base_uri": "https://localhost:8080/"
        },
        "id": "rmaSdY0Tp2vo",
        "outputId": "74ebe4f6-dd7c-4fd6-cdd7-eb7ae170c21f"
      },
      "execution_count": null,
      "outputs": [
        {
          "output_type": "stream",
          "name": "stdout",
          "text": [
            "Number of duplicates before cleaning: 26125\n",
            "Number of duplicates after cleaning: 0\n"
          ]
        }
      ]
    },
    {
      "cell_type": "markdown",
      "source": [
        "####4️⃣Checking for negative value"
      ],
      "metadata": {
        "id": "DYfTaLR9tfNC"
      }
    },
    {
      "cell_type": "code",
      "source": [
        "print(\"Negative value in Quantity is:\",(data.Quantity<0).sum())\n",
        "print(\"Negative value in Price is:\",(data.Price<0).sum())"
      ],
      "metadata": {
        "id": "CSW8VAwnp_XK",
        "colab": {
          "base_uri": "https://localhost:8080/"
        },
        "outputId": "fa621f4f-caf3-46d9-fa64-a2037939268f"
      },
      "execution_count": null,
      "outputs": [
        {
          "output_type": "stream",
          "name": "stdout",
          "text": [
            "Negative value in Quantity is: 0\n",
            "Negative value in Price is: 0\n"
          ]
        }
      ]
    },
    {
      "cell_type": "code",
      "source": [
        "print(\"Negative value in Quantity is:\",(data.Quantity<0).sum())\n",
        "print(\"Negative value in Price is:\",(data.Price<0).sum())"
      ],
      "metadata": {
        "colab": {
          "base_uri": "https://localhost:8080/"
        },
        "id": "ImT9CVSmqGNQ",
        "outputId": "5a479520-a56d-4411-eafa-7c71674dc11e"
      },
      "execution_count": null,
      "outputs": [
        {
          "output_type": "stream",
          "name": "stdout",
          "text": [
            "Negative value in Quantity is: 0\n",
            "Negative value in Price is: 0\n"
          ]
        }
      ]
    },
    {
      "cell_type": "markdown",
      "source": [
        "####5️⃣Cleaning Outliers"
      ],
      "metadata": {
        "id": "x4N9_ZI3ti3B"
      }
    },
    {
      "cell_type": "code",
      "source": [
        "#defining funcation to remove outliers w.r.t its thresholds\n",
        "def outlier_thresholds(dataframe, variable):\n",
        "    quartile1 = dataframe[variable].quantile(0.01)\n",
        "    quartile3 = dataframe[variable].quantile(0.99)\n",
        "    interquantile_range = quartile3 - quartile1\n",
        "    up_limit = quartile3 + 1.5 * interquantile_range\n",
        "    low_limit = quartile1 - 1.5 * interquantile_range\n",
        "    return up_limit, low_limit\n",
        "\n",
        "def replace_with_threshold(dataframe, variable):\n",
        "    up_limit, low_limit = outlier_thresholds(dataframe, variable)\n",
        "    # dataframe.loc[(dataframe[variable] < low_limit), variable] = low_limit\n",
        "    dataframe.loc[(dataframe[variable] > up_limit), variable] = up_limit\n",
        "\n",
        "\n",
        "    # Observing them before removing outliers.\n",
        "f, ax = plt.subplots(2,1, figsize = (20,5))\n",
        "col_list = [\"Quantity\",\"Price\"]\n",
        "for i in range(0,2):\n",
        "    ax[i].boxplot(data[col_list[i]],flierprops = dict(marker = \"s\", markerfacecolor = \"red\"), vert = 0)\n",
        "plt.show()"
      ],
      "metadata": {
        "colab": {
          "base_uri": "https://localhost:8080/",
          "height": 398
        },
        "id": "hmyfcr0LqU4Q",
        "outputId": "00adc1a5-0fb5-4144-95a7-979fac56a8fc"
      },
      "execution_count": null,
      "outputs": [
        {
          "output_type": "display_data",
          "data": {
            "text/plain": [
              "<Figure size 2000x500 with 2 Axes>"
            ],
            "image/png": "[encoded data removed]"
          },
          "metadata": {}
        }
      ]
    },
    {
      "cell_type": "code",
      "source": [
        "# Applying the functions for remove the outlier.\n",
        "replace_with_threshold(data, \"Quantity\")\n",
        "replace_with_threshold(data, \"Price\")\n",
        "\n",
        "\n",
        "# Observing them after removing outliers.\n",
        "f, ax = plt.subplots(2,1, figsize = (20,5))\n",
        "for i in range(0,2):\n",
        "    ax[i].boxplot(data[col_list[i]],flierprops = dict(marker = \"s\", markerfacecolor = \"red\"), vert = 0)\n",
        "plt.show()"
      ],
      "metadata": {
        "colab": {
          "base_uri": "https://localhost:8080/",
          "height": 398
        },
        "id": "wR3djbB9q2gu",
        "outputId": "d6633ac7-51fa-438a-be6e-53824304ed66"
      },
      "execution_count": null,
      "outputs": [
        {
          "output_type": "display_data",
          "data": {
            "text/plain": [
              "<Figure size 2000x500 with 2 Axes>"
            ],
            "image/png": "[encoded data removed]"
          },
          "metadata": {}
        }
      ]
    },
    {
      "cell_type": "markdown",
      "source": [
        "###👨‍💻EDA : Feature Engineering👨‍💻"
      ],
      "metadata": {
        "id": "cxBtvHt2sTHT"
      }
    },
    {
      "cell_type": "code",
      "source": [
        "#Creating new feature Revenue\n",
        "data[\"Revenue\"] = data[\"Quantity\"] * data[\"Price\"]\n",
        "\n",
        "#Creating Features for RFM Model\n",
        "#Changing data type to datetime\n",
        "data['InvoiceDate'] = pd.to_datetime(data['InvoiceDate'])\n",
        "\n",
        "print(\"Max date :\",data[\"InvoiceDate\"].max())\n",
        "print(\"Min date :\",data[\"InvoiceDate\"].min())"
      ],
      "metadata": {
        "colab": {
          "base_uri": "https://localhost:8080/"
        },
        "id": "CVxueXu3tuD7",
        "outputId": "3e1ab586-8612-419d-f899-b405b7c21459"
      },
      "execution_count": null,
      "outputs": [
        {
          "output_type": "stream",
          "name": "stdout",
          "text": [
            "Max date : 2011-12-09 12:50:00\n",
            "Min date : 2009-12-01 07:45:00\n"
          ]
        }
      ]
    },
    {
      "cell_type": "code",
      "source": [
        "#RFM Featuring\n",
        "\n",
        "#Set Latest date 2011-12-10 as last invoice date was 2011-12-09.\n",
        "Latest_Date = dt.datetime(2011,12,10)\n",
        "\n",
        "#Creating RFM features with subset of customerID\n",
        "RFM = data.groupby('Customer ID').agg({'InvoiceDate': lambda x: (Latest_Date - x.max()).days,\n",
        "                                                 'Invoice': lambda x: x.nunique(),\n",
        "                                                 \"Revenue\": lambda x: x.sum()})\n",
        "\n",
        "RFM['InvoiceDate'] = RFM['InvoiceDate'].astype(int)\n",
        "\n",
        "#Renaming column names to Recency, Frequency and Monetary\n",
        "RFM.rename(columns={'InvoiceDate': 'Recency',\n",
        "                         'Invoice': 'Frequency',\n",
        "                         'Revenue': 'Monetary'}, inplace=True)\n",
        "\n",
        "RFM.reset_index().head().style.set_properties(**{\"background-color\": \"#cd5c5c\",\"color\": \"black\", \"border-color\": \"black\"})"
      ],
      "metadata": {
        "colab": {
          "base_uri": "https://localhost:8080/",
          "height": 206
        },
        "id": "_fRwAjaUt9ua",
        "outputId": "47d1c04a-54bf-4001-fd9c-f1915f7da571"
      },
      "execution_count": null,
      "outputs": [
        {
          "output_type": "execute_result",
          "data": {
            "text/plain": [
              "<pandas.io.formats.style.Styler at 0x7e33f2bcfc10>"
            ],
            "text/html": [
              "<style type=\"text/css\">\n",
              "#T_4c9a5_row0_col0, #T_4c9a5_row0_col1, #T_4c9a5_row0_col2, #T_4c9a5_row0_col3, #T_4c9a5_row1_col0, #T_4c9a5_row1_col1, #T_4c9a5_row1_col2, #T_4c9a5_row1_col3, #T_4c9a5_row2_col0, #T_4c9a5_row2_col1, #T_4c9a5_row2_col2, #T_4c9a5_row2_col3, #T_4c9a5_row3_col0, #T_4c9a5_row3_col1, #T_4c9a5_row3_col2, #T_4c9a5_row3_col3, #T_4c9a5_row4_col0, #T_4c9a5_row4_col1, #T_4c9a5_row4_col2, #T_4c9a5_row4_col3 {\n",
              "  background-color: #cd5c5c;\n",
              "  color: black;\n",
              "  border-color: black;\n",
              "}\n",
              "</style>\n",
              "<table id=\"T_4c9a5\" class=\"dataframe\">\n",
              "  <thead>\n",
              "    <tr>\n",
              "      <th class=\"blank level0\" >&nbsp;</th>\n",
              "      <th id=\"T_4c9a5_level0_col0\" class=\"col_heading level0 col0\" >Customer ID</th>\n",
              "      <th id=\"T_4c9a5_level0_col1\" class=\"col_heading level0 col1\" >Recency</th>\n",
              "      <th id=\"T_4c9a5_level0_col2\" class=\"col_heading level0 col2\" >Frequency</th>\n",
              "      <th id=\"T_4c9a5_level0_col3\" class=\"col_heading level0 col3\" >Monetary</th>\n",
              "    </tr>\n",
              "  </thead>\n",
              "  <tbody>\n",
              "    <tr>\n",
              "      <th id=\"T_4c9a5_level0_row0\" class=\"row_heading level0 row0\" >0</th>\n",
              "      <td id=\"T_4c9a5_row0_col0\" class=\"data row0 col0\" >12346.000000</td>\n",
              "      <td id=\"T_4c9a5_row0_col1\" class=\"data row0 col1\" >325</td>\n",
              "      <td id=\"T_4c9a5_row0_col2\" class=\"data row0 col2\" >12</td>\n",
              "      <td id=\"T_4c9a5_row0_col3\" class=\"data row0 col3\" >745.700000</td>\n",
              "    </tr>\n",
              "    <tr>\n",
              "      <th id=\"T_4c9a5_level0_row1\" class=\"row_heading level0 row1\" >1</th>\n",
              "      <td id=\"T_4c9a5_row1_col0\" class=\"data row1 col0\" >12347.000000</td>\n",
              "      <td id=\"T_4c9a5_row1_col1\" class=\"data row1 col1\" >2</td>\n",
              "      <td id=\"T_4c9a5_row1_col2\" class=\"data row1 col2\" >8</td>\n",
              "      <td id=\"T_4c9a5_row1_col3\" class=\"data row1 col3\" >4921.530000</td>\n",
              "    </tr>\n",
              "    <tr>\n",
              "      <th id=\"T_4c9a5_level0_row2\" class=\"row_heading level0 row2\" >2</th>\n",
              "      <td id=\"T_4c9a5_row2_col0\" class=\"data row2 col0\" >12348.000000</td>\n",
              "      <td id=\"T_4c9a5_row2_col1\" class=\"data row2 col1\" >75</td>\n",
              "      <td id=\"T_4c9a5_row2_col2\" class=\"data row2 col2\" >5</td>\n",
              "      <td id=\"T_4c9a5_row2_col3\" class=\"data row2 col3\" >1991.860000</td>\n",
              "    </tr>\n",
              "    <tr>\n",
              "      <th id=\"T_4c9a5_level0_row3\" class=\"row_heading level0 row3\" >3</th>\n",
              "      <td id=\"T_4c9a5_row3_col0\" class=\"data row3 col0\" >12349.000000</td>\n",
              "      <td id=\"T_4c9a5_row3_col1\" class=\"data row3 col1\" >18</td>\n",
              "      <td id=\"T_4c9a5_row3_col2\" class=\"data row3 col2\" >4</td>\n",
              "      <td id=\"T_4c9a5_row3_col3\" class=\"data row3 col3\" >3786.500000</td>\n",
              "    </tr>\n",
              "    <tr>\n",
              "      <th id=\"T_4c9a5_level0_row4\" class=\"row_heading level0 row4\" >4</th>\n",
              "      <td id=\"T_4c9a5_row4_col0\" class=\"data row4 col0\" >12350.000000</td>\n",
              "      <td id=\"T_4c9a5_row4_col1\" class=\"data row4 col1\" >310</td>\n",
              "      <td id=\"T_4c9a5_row4_col2\" class=\"data row4 col2\" >1</td>\n",
              "      <td id=\"T_4c9a5_row4_col3\" class=\"data row4 col3\" >331.340000</td>\n",
              "    </tr>\n",
              "  </tbody>\n",
              "</table>\n"
            ]
          },
          "metadata": {},
          "execution_count": 36
        }
      ]
    },
    {
      "cell_type": "markdown",
      "source": [
        "###👨‍💻Introducing New Feature : Interpurchase-Time👨‍💻"
      ],
      "metadata": {
        "id": "q8wrpW-xuGTb"
      }
    },
    {
      "cell_type": "code",
      "source": [
        "#The Fourth varibale of RFM, InterPurchase Time, is a measure of average time gap between total shopping trips by a customer.\n",
        "#The Interpurchase Time is calcluted as fallows :\n",
        "\n",
        "#T = L/(F-1) = (Tn - T1)/(F-1)\n",
        "\n",
        "#T --> Interpurchase Time\n",
        "#L --> Shopping Cycle\n",
        "#F --> Frequency\n",
        "#T1 --> First purchase\n",
        "#Tn --> Last purchase\n",
        "#Note: We consider only those customers who made purchase more than once.\n",
        "RFM = RFM[(RFM[\"Frequency\"]>1)]\n",
        "RFM.head().style.set_properties(**{\"background-color\": \"#cd5c5c\",\"color\": \"black\", \"border-color\": \"black\"})"
      ],
      "metadata": {
        "colab": {
          "base_uri": "https://localhost:8080/",
          "height": 237
        },
        "id": "vVnRHhISu1vS",
        "outputId": "bb8108ab-6983-4aa1-ab77-aab9bace4e5b"
      },
      "execution_count": null,
      "outputs": [
        {
          "output_type": "execute_result",
          "data": {
            "text/plain": [
              "<pandas.io.formats.style.Styler at 0x7e33f2bef550>"
            ],
            "text/html": [
              "<style type=\"text/css\">\n",
              "#T_442fd_row0_col0, #T_442fd_row0_col1, #T_442fd_row0_col2, #T_442fd_row1_col0, #T_442fd_row1_col1, #T_442fd_row1_col2, #T_442fd_row2_col0, #T_442fd_row2_col1, #T_442fd_row2_col2, #T_442fd_row3_col0, #T_442fd_row3_col1, #T_442fd_row3_col2, #T_442fd_row4_col0, #T_442fd_row4_col1, #T_442fd_row4_col2 {\n",
              "  background-color: #cd5c5c;\n",
              "  color: black;\n",
              "  border-color: black;\n",
              "}\n",
              "</style>\n",
              "<table id=\"T_442fd\" class=\"dataframe\">\n",
              "  <thead>\n",
              "    <tr>\n",
              "      <th class=\"blank level0\" >&nbsp;</th>\n",
              "      <th id=\"T_442fd_level0_col0\" class=\"col_heading level0 col0\" >Recency</th>\n",
              "      <th id=\"T_442fd_level0_col1\" class=\"col_heading level0 col1\" >Frequency</th>\n",
              "      <th id=\"T_442fd_level0_col2\" class=\"col_heading level0 col2\" >Monetary</th>\n",
              "    </tr>\n",
              "    <tr>\n",
              "      <th class=\"index_name level0\" >Customer ID</th>\n",
              "      <th class=\"blank col0\" >&nbsp;</th>\n",
              "      <th class=\"blank col1\" >&nbsp;</th>\n",
              "      <th class=\"blank col2\" >&nbsp;</th>\n",
              "    </tr>\n",
              "  </thead>\n",
              "  <tbody>\n",
              "    <tr>\n",
              "      <th id=\"T_442fd_level0_row0\" class=\"row_heading level0 row0\" >12346.000000</th>\n",
              "      <td id=\"T_442fd_row0_col0\" class=\"data row0 col0\" >325</td>\n",
              "      <td id=\"T_442fd_row0_col1\" class=\"data row0 col1\" >12</td>\n",
              "      <td id=\"T_442fd_row0_col2\" class=\"data row0 col2\" >745.700000</td>\n",
              "    </tr>\n",
              "    <tr>\n",
              "      <th id=\"T_442fd_level0_row1\" class=\"row_heading level0 row1\" >12347.000000</th>\n",
              "      <td id=\"T_442fd_row1_col0\" class=\"data row1 col0\" >2</td>\n",
              "      <td id=\"T_442fd_row1_col1\" class=\"data row1 col1\" >8</td>\n",
              "      <td id=\"T_442fd_row1_col2\" class=\"data row1 col2\" >4921.530000</td>\n",
              "    </tr>\n",
              "    <tr>\n",
              "      <th id=\"T_442fd_level0_row2\" class=\"row_heading level0 row2\" >12348.000000</th>\n",
              "      <td id=\"T_442fd_row2_col0\" class=\"data row2 col0\" >75</td>\n",
              "      <td id=\"T_442fd_row2_col1\" class=\"data row2 col1\" >5</td>\n",
              "      <td id=\"T_442fd_row2_col2\" class=\"data row2 col2\" >1991.860000</td>\n",
              "    </tr>\n",
              "    <tr>\n",
              "      <th id=\"T_442fd_level0_row3\" class=\"row_heading level0 row3\" >12349.000000</th>\n",
              "      <td id=\"T_442fd_row3_col0\" class=\"data row3 col0\" >18</td>\n",
              "      <td id=\"T_442fd_row3_col1\" class=\"data row3 col1\" >4</td>\n",
              "      <td id=\"T_442fd_row3_col2\" class=\"data row3 col2\" >3786.500000</td>\n",
              "    </tr>\n",
              "    <tr>\n",
              "      <th id=\"T_442fd_level0_row4\" class=\"row_heading level0 row4\" >12352.000000</th>\n",
              "      <td id=\"T_442fd_row4_col0\" class=\"data row4 col0\" >36</td>\n",
              "      <td id=\"T_442fd_row4_col1\" class=\"data row4 col1\" >10</td>\n",
              "      <td id=\"T_442fd_row4_col2\" class=\"data row4 col2\" >2098.940000</td>\n",
              "    </tr>\n",
              "  </tbody>\n",
              "</table>\n"
            ]
          },
          "metadata": {},
          "execution_count": 37
        }
      ]
    },
    {
      "cell_type": "code",
      "source": [
        "Shopping_Cycle = data.groupby('Customer ID').agg({'InvoiceDate': lambda x: ((x.max() - x.min()).days)})\n",
        "\n",
        "RFM[\"Shopping_Cycle\"] = Shopping_Cycle\n",
        "RFM.head().style.set_properties(**{\"background-color\": \"#cd5c5c\",\"color\": \"black\", \"border-color\": \"black\"})"
      ],
      "metadata": {
        "colab": {
          "base_uri": "https://localhost:8080/",
          "height": 237
        },
        "id": "_pghrTOevkAI",
        "outputId": "2d2e9eb2-8e88-4952-c0cd-e0c784eafd78"
      },
      "execution_count": null,
      "outputs": [
        {
          "output_type": "execute_result",
          "data": {
            "text/plain": [
              "<pandas.io.formats.style.Styler at 0x7e33fb9ef490>"
            ],
            "text/html": [
              "<style type=\"text/css\">\n",
              "#T_d1641_row0_col0, #T_d1641_row0_col1, #T_d1641_row0_col2, #T_d1641_row0_col3, #T_d1641_row1_col0, #T_d1641_row1_col1, #T_d1641_row1_col2, #T_d1641_row1_col3, #T_d1641_row2_col0, #T_d1641_row2_col1, #T_d1641_row2_col2, #T_d1641_row2_col3, #T_d1641_row3_col0, #T_d1641_row3_col1, #T_d1641_row3_col2, #T_d1641_row3_col3, #T_d1641_row4_col0, #T_d1641_row4_col1, #T_d1641_row4_col2, #T_d1641_row4_col3 {\n",
              "  background-color: #cd5c5c;\n",
              "  color: black;\n",
              "  border-color: black;\n",
              "}\n",
              "</style>\n",
              "<table id=\"T_d1641\" class=\"dataframe\">\n",
              "  <thead>\n",
              "    <tr>\n",
              "      <th class=\"blank level0\" >&nbsp;</th>\n",
              "      <th id=\"T_d1641_level0_col0\" class=\"col_heading level0 col0\" >Recency</th>\n",
              "      <th id=\"T_d1641_level0_col1\" class=\"col_heading level0 col1\" >Frequency</th>\n",
              "      <th id=\"T_d1641_level0_col2\" class=\"col_heading level0 col2\" >Monetary</th>\n",
              "      <th id=\"T_d1641_level0_col3\" class=\"col_heading level0 col3\" >Shopping_Cycle</th>\n",
              "    </tr>\n",
              "    <tr>\n",
              "      <th class=\"index_name level0\" >Customer ID</th>\n",
              "      <th class=\"blank col0\" >&nbsp;</th>\n",
              "      <th class=\"blank col1\" >&nbsp;</th>\n",
              "      <th class=\"blank col2\" >&nbsp;</th>\n",
              "      <th class=\"blank col3\" >&nbsp;</th>\n",
              "    </tr>\n",
              "  </thead>\n",
              "  <tbody>\n",
              "    <tr>\n",
              "      <th id=\"T_d1641_level0_row0\" class=\"row_heading level0 row0\" >12346.000000</th>\n",
              "      <td id=\"T_d1641_row0_col0\" class=\"data row0 col0\" >325</td>\n",
              "      <td id=\"T_d1641_row0_col1\" class=\"data row0 col1\" >12</td>\n",
              "      <td id=\"T_d1641_row0_col2\" class=\"data row0 col2\" >745.700000</td>\n",
              "      <td id=\"T_d1641_row0_col3\" class=\"data row0 col3\" >400</td>\n",
              "    </tr>\n",
              "    <tr>\n",
              "      <th id=\"T_d1641_level0_row1\" class=\"row_heading level0 row1\" >12347.000000</th>\n",
              "      <td id=\"T_d1641_row1_col0\" class=\"data row1 col0\" >2</td>\n",
              "      <td id=\"T_d1641_row1_col1\" class=\"data row1 col1\" >8</td>\n",
              "      <td id=\"T_d1641_row1_col2\" class=\"data row1 col2\" >4921.530000</td>\n",
              "      <td id=\"T_d1641_row1_col3\" class=\"data row1 col3\" >402</td>\n",
              "    </tr>\n",
              "    <tr>\n",
              "      <th id=\"T_d1641_level0_row2\" class=\"row_heading level0 row2\" >12348.000000</th>\n",
              "      <td id=\"T_d1641_row2_col0\" class=\"data row2 col0\" >75</td>\n",
              "      <td id=\"T_d1641_row2_col1\" class=\"data row2 col1\" >5</td>\n",
              "      <td id=\"T_d1641_row2_col2\" class=\"data row2 col2\" >1991.860000</td>\n",
              "      <td id=\"T_d1641_row2_col3\" class=\"data row2 col3\" >362</td>\n",
              "    </tr>\n",
              "    <tr>\n",
              "      <th id=\"T_d1641_level0_row3\" class=\"row_heading level0 row3\" >12349.000000</th>\n",
              "      <td id=\"T_d1641_row3_col0\" class=\"data row3 col0\" >18</td>\n",
              "      <td id=\"T_d1641_row3_col1\" class=\"data row3 col1\" >4</td>\n",
              "      <td id=\"T_d1641_row3_col2\" class=\"data row3 col2\" >3786.500000</td>\n",
              "      <td id=\"T_d1641_row3_col3\" class=\"data row3 col3\" >570</td>\n",
              "    </tr>\n",
              "    <tr>\n",
              "      <th id=\"T_d1641_level0_row4\" class=\"row_heading level0 row4\" >12352.000000</th>\n",
              "      <td id=\"T_d1641_row4_col0\" class=\"data row4 col0\" >36</td>\n",
              "      <td id=\"T_d1641_row4_col1\" class=\"data row4 col1\" >10</td>\n",
              "      <td id=\"T_d1641_row4_col2\" class=\"data row4 col2\" >2098.940000</td>\n",
              "      <td id=\"T_d1641_row4_col3\" class=\"data row4 col3\" >356</td>\n",
              "    </tr>\n",
              "  </tbody>\n",
              "</table>\n"
            ]
          },
          "metadata": {},
          "execution_count": 38
        }
      ]
    },
    {
      "cell_type": "code",
      "source": [
        "RFM[\"Interpurchase_Time\"] = RFM[\"Shopping_Cycle\"] // RFM[\"Frequency\"]\n",
        "RFMT = RFM[[\"Recency\",\"Frequency\",\"Monetary\",\"Interpurchase_Time\"]]\n",
        "RFMT.head().style.set_properties(**{\"background-color\": \"#cd5c5c\",\"color\": \"black\", \"border-color\": \"black\"})"
      ],
      "metadata": {
        "colab": {
          "base_uri": "https://localhost:8080/",
          "height": 237
        },
        "id": "kyzUEZGKvt1R",
        "outputId": "84e46a5a-8e6b-4931-8ad7-d883fb4fce17"
      },
      "execution_count": null,
      "outputs": [
        {
          "output_type": "execute_result",
          "data": {
            "text/plain": [
              "<pandas.io.formats.style.Styler at 0x7e33fb423dc0>"
            ],
            "text/html": [
              "<style type=\"text/css\">\n",
              "#T_a5c02_row0_col0, #T_a5c02_row0_col1, #T_a5c02_row0_col2, #T_a5c02_row0_col3, #T_a5c02_row1_col0, #T_a5c02_row1_col1, #T_a5c02_row1_col2, #T_a5c02_row1_col3, #T_a5c02_row2_col0, #T_a5c02_row2_col1, #T_a5c02_row2_col2, #T_a5c02_row2_col3, #T_a5c02_row3_col0, #T_a5c02_row3_col1, #T_a5c02_row3_col2, #T_a5c02_row3_col3, #T_a5c02_row4_col0, #T_a5c02_row4_col1, #T_a5c02_row4_col2, #T_a5c02_row4_col3 {\n",
              "  background-color: #cd5c5c;\n",
              "  color: black;\n",
              "  border-color: black;\n",
              "}\n",
              "</style>\n",
              "<table id=\"T_a5c02\" class=\"dataframe\">\n",
              "  <thead>\n",
              "    <tr>\n",
              "      <th class=\"blank level0\" >&nbsp;</th>\n",
              "      <th id=\"T_a5c02_level0_col0\" class=\"col_heading level0 col0\" >Recency</th>\n",
              "      <th id=\"T_a5c02_level0_col1\" class=\"col_heading level0 col1\" >Frequency</th>\n",
              "      <th id=\"T_a5c02_level0_col2\" class=\"col_heading level0 col2\" >Monetary</th>\n",
              "      <th id=\"T_a5c02_level0_col3\" class=\"col_heading level0 col3\" >Interpurchase_Time</th>\n",
              "    </tr>\n",
              "    <tr>\n",
              "      <th class=\"index_name level0\" >Customer ID</th>\n",
              "      <th class=\"blank col0\" >&nbsp;</th>\n",
              "      <th class=\"blank col1\" >&nbsp;</th>\n",
              "      <th class=\"blank col2\" >&nbsp;</th>\n",
              "      <th class=\"blank col3\" >&nbsp;</th>\n",
              "    </tr>\n",
              "  </thead>\n",
              "  <tbody>\n",
              "    <tr>\n",
              "      <th id=\"T_a5c02_level0_row0\" class=\"row_heading level0 row0\" >12346.000000</th>\n",
              "      <td id=\"T_a5c02_row0_col0\" class=\"data row0 col0\" >325</td>\n",
              "      <td id=\"T_a5c02_row0_col1\" class=\"data row0 col1\" >12</td>\n",
              "      <td id=\"T_a5c02_row0_col2\" class=\"data row0 col2\" >745.700000</td>\n",
              "      <td id=\"T_a5c02_row0_col3\" class=\"data row0 col3\" >33</td>\n",
              "    </tr>\n",
              "    <tr>\n",
              "      <th id=\"T_a5c02_level0_row1\" class=\"row_heading level0 row1\" >12347.000000</th>\n",
              "      <td id=\"T_a5c02_row1_col0\" class=\"data row1 col0\" >2</td>\n",
              "      <td id=\"T_a5c02_row1_col1\" class=\"data row1 col1\" >8</td>\n",
              "      <td id=\"T_a5c02_row1_col2\" class=\"data row1 col2\" >4921.530000</td>\n",
              "      <td id=\"T_a5c02_row1_col3\" class=\"data row1 col3\" >50</td>\n",
              "    </tr>\n",
              "    <tr>\n",
              "      <th id=\"T_a5c02_level0_row2\" class=\"row_heading level0 row2\" >12348.000000</th>\n",
              "      <td id=\"T_a5c02_row2_col0\" class=\"data row2 col0\" >75</td>\n",
              "      <td id=\"T_a5c02_row2_col1\" class=\"data row2 col1\" >5</td>\n",
              "      <td id=\"T_a5c02_row2_col2\" class=\"data row2 col2\" >1991.860000</td>\n",
              "      <td id=\"T_a5c02_row2_col3\" class=\"data row2 col3\" >72</td>\n",
              "    </tr>\n",
              "    <tr>\n",
              "      <th id=\"T_a5c02_level0_row3\" class=\"row_heading level0 row3\" >12349.000000</th>\n",
              "      <td id=\"T_a5c02_row3_col0\" class=\"data row3 col0\" >18</td>\n",
              "      <td id=\"T_a5c02_row3_col1\" class=\"data row3 col1\" >4</td>\n",
              "      <td id=\"T_a5c02_row3_col2\" class=\"data row3 col2\" >3786.500000</td>\n",
              "      <td id=\"T_a5c02_row3_col3\" class=\"data row3 col3\" >142</td>\n",
              "    </tr>\n",
              "    <tr>\n",
              "      <th id=\"T_a5c02_level0_row4\" class=\"row_heading level0 row4\" >12352.000000</th>\n",
              "      <td id=\"T_a5c02_row4_col0\" class=\"data row4 col0\" >36</td>\n",
              "      <td id=\"T_a5c02_row4_col1\" class=\"data row4 col1\" >10</td>\n",
              "      <td id=\"T_a5c02_row4_col2\" class=\"data row4 col2\" >2098.940000</td>\n",
              "      <td id=\"T_a5c02_row4_col3\" class=\"data row4 col3\" >35</td>\n",
              "    </tr>\n",
              "  </tbody>\n",
              "</table>\n"
            ]
          },
          "metadata": {},
          "execution_count": 39
        }
      ]
    },
    {
      "cell_type": "markdown",
      "source": [
        "###👨•💻Modelling with KMeans Algorithm👨•💻"
      ],
      "metadata": {
        "id": "t3CoCnmhvxTs"
      }
    },
    {
      "cell_type": "code",
      "source": [
        "# Finding initial K value using Elbow Method\n",
        "plt.figure(figsize=(10,5))\n",
        "ax = plt.axes()\n",
        "ax.set_facecolor(\"#cd5c5c\")\n",
        "Elbow_M = KElbowVisualizer(KMeans(), k=10)\n",
        "Elbow_M.fit(RFMT)\n",
        "Elbow_M.show()\n",
        "print(\"Therefore K = 4\")"
      ],
      "metadata": {
        "colab": {
          "base_uri": "https://localhost:8080/",
          "height": 502
        },
        "id": "kZZ1VGtYvySw",
        "outputId": "e5356405-24ab-45f7-ff9f-efced84c1aac"
      },
      "execution_count": null,
      "outputs": [
        {
          "output_type": "display_data",
          "data": {
            "text/plain": [
              "<Figure size 1000x500 with 2 Axes>"
            ],
            "image/png": "[encoded data removed]"
          },
          "metadata": {}
        },
        {
          "output_type": "stream",
          "name": "stdout",
          "text": [
            "Therefore K = 4\n"
          ]
        }
      ]
    },
    {
      "cell_type": "code",
      "source": [
        "#Fitting KMeans Model\n",
        "kmeans = KMeans(n_clusters=4,max_iter=50)\n",
        "kmeans.fit(RFMT)"
      ],
      "metadata": {
        "colab": {
          "base_uri": "https://localhost:8080/",
          "height": 74
        },
        "id": "bgPzI_pnwhu6",
        "outputId": "4e6cc91e-ba48-4a53-88a0-2f70f3e1bfaa"
      },
      "execution_count": null,
      "outputs": [
        {
          "output_type": "execute_result",
          "data": {
            "text/plain": [
              "KMeans(max_iter=50, n_clusters=4)"
            ],
            "text/html": [
              "<style>#sk-container-id-2 {color: black;background-color: white;}#sk-container-id-2 pre{padding: 0;}#sk-container-id-2 div.sk-toggleable {background-color: white;}#sk-container-id-2 label.sk-toggleable__label {cursor: pointer;display: block;width: 100%;margin-bottom: 0;padding: 0.3em;box-sizing: border-box;text-align: center;}#sk-container-id-2 label.sk-toggleable__label-arrow:before {content: \"▸\";float: left;margin-right: 0.25em;color: #696969;}#sk-container-id-2 label.sk-toggleable__label-arrow:hover:before {color: black;}#sk-container-id-2 div.sk-estimator:hover label.sk-toggleable__label-arrow:before {color: black;}#sk-container-id-2 div.sk-toggleable__content {max-height: 0;max-width: 0;overflow: hidden;text-align: left;background-color: #f0f8ff;}#sk-container-id-2 div.sk-toggleable__content pre {margin: 0.2em;color: black;border-radius: 0.25em;background-color: #f0f8ff;}#sk-container-id-2 input.sk-toggleable__control:checked~div.sk-toggleable__content {max-height: 200px;max-width: 100%;overflow: auto;}#sk-container-id-2 input.sk-toggleable__control:checked~label.sk-toggleable__label-arrow:before {content: \"▾\";}#sk-container-id-2 div.sk-estimator input.sk-toggleable__control:checked~label.sk-toggleable__label {background-color: #d4ebff;}#sk-container-id-2 div.sk-label input.sk-toggleable__control:checked~label.sk-toggleable__label {background-color: #d4ebff;}#sk-container-id-2 input.sk-hidden--visually {border: 0;clip: rect(1px 1px 1px 1px);clip: rect(1px, 1px, 1px, 1px);height: 1px;margin: -1px;overflow: hidden;padding: 0;position: absolute;width: 1px;}#sk-container-id-2 div.sk-estimator {font-family: monospace;background-color: #f0f8ff;border: 1px dotted black;border-radius: 0.25em;box-sizing: border-box;margin-bottom: 0.5em;}#sk-container-id-2 div.sk-estimator:hover {background-color: #d4ebff;}#sk-container-id-2 div.sk-parallel-item::after {content: \"\";width: 100%;border-bottom: 1px solid gray;flex-grow: 1;}#sk-container-id-2 div.sk-label:hover label.sk-toggleable__label {background-color: #d4ebff;}#sk-container-id-2 div.sk-serial::before {content: \"\";position: absolute;border-left: 1px solid gray;box-sizing: border-box;top: 0;bottom: 0;left: 50%;z-index: 0;}#sk-container-id-2 div.sk-serial {display: flex;flex-direction: column;align-items: center;background-color: white;padding-right: 0.2em;padding-left: 0.2em;position: relative;}#sk-container-id-2 div.sk-item {position: relative;z-index: 1;}#sk-container-id-2 div.sk-parallel {display: flex;align-items: stretch;justify-content: center;background-color: white;position: relative;}#sk-container-id-2 div.sk-item::before, #sk-container-id-2 div.sk-parallel-item::before {content: \"\";position: absolute;border-left: 1px solid gray;box-sizing: border-box;top: 0;bottom: 0;left: 50%;z-index: -1;}#sk-container-id-2 div.sk-parallel-item {display: flex;flex-direction: column;z-index: 1;position: relative;background-color: white;}#sk-container-id-2 div.sk-parallel-item:first-child::after {align-self: flex-end;width: 50%;}#sk-container-id-2 div.sk-parallel-item:last-child::after {align-self: flex-start;width: 50%;}#sk-container-id-2 div.sk-parallel-item:only-child::after {width: 0;}#sk-container-id-2 div.sk-dashed-wrapped {border: 1px dashed gray;margin: 0 0.4em 0.5em 0.4em;box-sizing: border-box;padding-bottom: 0.4em;background-color: white;}#sk-container-id-2 div.sk-label label {font-family: monospace;font-weight: bold;display: inline-block;line-height: 1.2em;}#sk-container-id-2 div.sk-label-container {text-align: center;}#sk-container-id-2 div.sk-container {/* jupyter's `normalize.less` sets `[hidden] { display: none; }` but bootstrap.min.css set `[hidden] { display: none !important; }` so we also need the `!important` here to be able to override the default hidden behavior on the sphinx rendered scikit-learn.org. See: https://github.com/scikit-learn/scikit-learn/issues/21755 */display: inline-block !important;position: relative;}#sk-container-id-2 div.sk-text-repr-fallback {display: none;}</style><div id=\"sk-container-id-2\" class=\"sk-top-container\"><div class=\"sk-text-repr-fallback\"><pre>KMeans(max_iter=50, n_clusters=4)</pre><b>In a Jupyter environment, please rerun this cell to show the HTML representation or trust the notebook. <br />On GitHub, the HTML representation is unable to render, please try loading this page with nbviewer.org.</b></div><div class=\"sk-container\" hidden><div class=\"sk-item\"><div class=\"sk-estimator sk-toggleable\"><input class=\"sk-toggleable__control sk-hidden--visually\" id=\"sk-estimator-id-2\" type=\"checkbox\" checked><label for=\"sk-estimator-id-2\" class=\"sk-toggleable__label sk-toggleable__label-arrow\">KMeans</label><div class=\"sk-toggleable__content\"><pre>KMeans(max_iter=50, n_clusters=4)</pre></div></div></div></div></div>"
            ]
          },
          "metadata": {},
          "execution_count": 41
        }
      ]
    },
    {
      "cell_type": "code",
      "source": [
        "RFMT[\"Clusters\"]=kmeans.labels_\n",
        "RFMT.head().style.set_properties(**{\"background-color\": \"#cd5c5c\",\"color\": \"black\", \"border-color\": \"black\"})"
      ],
      "metadata": {
        "colab": {
          "base_uri": "https://localhost:8080/",
          "height": 237
        },
        "id": "ZN-Tnw5zwlN3",
        "outputId": "59d07967-4e86-417e-add9-abc4fc1f587b"
      },
      "execution_count": null,
      "outputs": [
        {
          "output_type": "execute_result",
          "data": {
            "text/plain": [
              "<pandas.io.formats.style.Styler at 0x7e33fb4232b0>"
            ],
            "text/html": [
              "<style type=\"text/css\">\n",
              "#T_6dbeb_row0_col0, #T_6dbeb_row0_col1, #T_6dbeb_row0_col2, #T_6dbeb_row0_col3, #T_6dbeb_row0_col4, #T_6dbeb_row1_col0, #T_6dbeb_row1_col1, #T_6dbeb_row1_col2, #T_6dbeb_row1_col3, #T_6dbeb_row1_col4, #T_6dbeb_row2_col0, #T_6dbeb_row2_col1, #T_6dbeb_row2_col2, #T_6dbeb_row2_col3, #T_6dbeb_row2_col4, #T_6dbeb_row3_col0, #T_6dbeb_row3_col1, #T_6dbeb_row3_col2, #T_6dbeb_row3_col3, #T_6dbeb_row3_col4, #T_6dbeb_row4_col0, #T_6dbeb_row4_col1, #T_6dbeb_row4_col2, #T_6dbeb_row4_col3, #T_6dbeb_row4_col4 {\n",
              "  background-color: #cd5c5c;\n",
              "  color: black;\n",
              "  border-color: black;\n",
              "}\n",
              "</style>\n",
              "<table id=\"T_6dbeb\" class=\"dataframe\">\n",
              "  <thead>\n",
              "    <tr>\n",
              "      <th class=\"blank level0\" >&nbsp;</th>\n",
              "      <th id=\"T_6dbeb_level0_col0\" class=\"col_heading level0 col0\" >Recency</th>\n",
              "      <th id=\"T_6dbeb_level0_col1\" class=\"col_heading level0 col1\" >Frequency</th>\n",
              "      <th id=\"T_6dbeb_level0_col2\" class=\"col_heading level0 col2\" >Monetary</th>\n",
              "      <th id=\"T_6dbeb_level0_col3\" class=\"col_heading level0 col3\" >Interpurchase_Time</th>\n",
              "      <th id=\"T_6dbeb_level0_col4\" class=\"col_heading level0 col4\" >Clusters</th>\n",
              "    </tr>\n",
              "    <tr>\n",
              "      <th class=\"index_name level0\" >Customer ID</th>\n",
              "      <th class=\"blank col0\" >&nbsp;</th>\n",
              "      <th class=\"blank col1\" >&nbsp;</th>\n",
              "      <th class=\"blank col2\" >&nbsp;</th>\n",
              "      <th class=\"blank col3\" >&nbsp;</th>\n",
              "      <th class=\"blank col4\" >&nbsp;</th>\n",
              "    </tr>\n",
              "  </thead>\n",
              "  <tbody>\n",
              "    <tr>\n",
              "      <th id=\"T_6dbeb_level0_row0\" class=\"row_heading level0 row0\" >12346.000000</th>\n",
              "      <td id=\"T_6dbeb_row0_col0\" class=\"data row0 col0\" >325</td>\n",
              "      <td id=\"T_6dbeb_row0_col1\" class=\"data row0 col1\" >12</td>\n",
              "      <td id=\"T_6dbeb_row0_col2\" class=\"data row0 col2\" >745.700000</td>\n",
              "      <td id=\"T_6dbeb_row0_col3\" class=\"data row0 col3\" >33</td>\n",
              "      <td id=\"T_6dbeb_row0_col4\" class=\"data row0 col4\" >0</td>\n",
              "    </tr>\n",
              "    <tr>\n",
              "      <th id=\"T_6dbeb_level0_row1\" class=\"row_heading level0 row1\" >12347.000000</th>\n",
              "      <td id=\"T_6dbeb_row1_col0\" class=\"data row1 col0\" >2</td>\n",
              "      <td id=\"T_6dbeb_row1_col1\" class=\"data row1 col1\" >8</td>\n",
              "      <td id=\"T_6dbeb_row1_col2\" class=\"data row1 col2\" >4921.530000</td>\n",
              "      <td id=\"T_6dbeb_row1_col3\" class=\"data row1 col3\" >50</td>\n",
              "      <td id=\"T_6dbeb_row1_col4\" class=\"data row1 col4\" >0</td>\n",
              "    </tr>\n",
              "    <tr>\n",
              "      <th id=\"T_6dbeb_level0_row2\" class=\"row_heading level0 row2\" >12348.000000</th>\n",
              "      <td id=\"T_6dbeb_row2_col0\" class=\"data row2 col0\" >75</td>\n",
              "      <td id=\"T_6dbeb_row2_col1\" class=\"data row2 col1\" >5</td>\n",
              "      <td id=\"T_6dbeb_row2_col2\" class=\"data row2 col2\" >1991.860000</td>\n",
              "      <td id=\"T_6dbeb_row2_col3\" class=\"data row2 col3\" >72</td>\n",
              "      <td id=\"T_6dbeb_row2_col4\" class=\"data row2 col4\" >0</td>\n",
              "    </tr>\n",
              "    <tr>\n",
              "      <th id=\"T_6dbeb_level0_row3\" class=\"row_heading level0 row3\" >12349.000000</th>\n",
              "      <td id=\"T_6dbeb_row3_col0\" class=\"data row3 col0\" >18</td>\n",
              "      <td id=\"T_6dbeb_row3_col1\" class=\"data row3 col1\" >4</td>\n",
              "      <td id=\"T_6dbeb_row3_col2\" class=\"data row3 col2\" >3786.500000</td>\n",
              "      <td id=\"T_6dbeb_row3_col3\" class=\"data row3 col3\" >142</td>\n",
              "      <td id=\"T_6dbeb_row3_col4\" class=\"data row3 col4\" >0</td>\n",
              "    </tr>\n",
              "    <tr>\n",
              "      <th id=\"T_6dbeb_level0_row4\" class=\"row_heading level0 row4\" >12352.000000</th>\n",
              "      <td id=\"T_6dbeb_row4_col0\" class=\"data row4 col0\" >36</td>\n",
              "      <td id=\"T_6dbeb_row4_col1\" class=\"data row4 col1\" >10</td>\n",
              "      <td id=\"T_6dbeb_row4_col2\" class=\"data row4 col2\" >2098.940000</td>\n",
              "      <td id=\"T_6dbeb_row4_col3\" class=\"data row4 col3\" >35</td>\n",
              "      <td id=\"T_6dbeb_row4_col4\" class=\"data row4 col4\" >0</td>\n",
              "    </tr>\n",
              "  </tbody>\n",
              "</table>\n"
            ]
          },
          "metadata": {},
          "execution_count": 42
        }
      ]
    },
    {
      "cell_type": "markdown",
      "source": [
        "###👨‍💻 Model : Evaluation👨‍💻"
      ],
      "metadata": {
        "id": "wKvGip2ZwqBP"
      }
    },
    {
      "cell_type": "code",
      "source": [
        "# how well the clusters are?:\n",
        "#centriods\n",
        "kmeans.cluster_centers_"
      ],
      "metadata": {
        "colab": {
          "base_uri": "https://localhost:8080/"
        },
        "id": "GueNrlP1wrOf",
        "outputId": "b8cdeadc-4495-4f16-c09a-5823d956fd5a"
      },
      "execution_count": null,
      "outputs": [
        {
          "output_type": "execute_result",
          "data": {
            "text/plain": [
              "array([[1.44706872e+02, 7.01753964e+00, 2.42744928e+03, 7.00689572e+01],\n",
              "       [5.00000000e-01, 1.48500000e+02, 5.22924278e+05, 4.50000000e+00],\n",
              "       [5.60000000e+00, 1.42900000e+02, 1.75188549e+05, 7.10000000e+00],\n",
              "       [3.28024691e+01, 5.45185185e+01, 3.60880413e+04, 1.85308642e+01]])"
            ]
          },
          "metadata": {},
          "execution_count": 43
        }
      ]
    },
    {
      "cell_type": "code",
      "source": [
        "# grouping the data in accorandance with each cluster seperately\n",
        "one = RFMT[RFMT[\"Clusters\"]==0]\n",
        "two = RFMT[RFMT[\"Clusters\"]==1]\n",
        "three = RFMT[RFMT[\"Clusters\"]==2]\n",
        "four = RFMT[RFMT[\"Clusters\"]==3]\n",
        "\n",
        "#Checking the quality of clustering in the data set\n",
        "plt.figure(figsize=(10,5))\n",
        "ax = plt.axes()\n",
        "ax.set_facecolor(\"#cd5c5c\")\n",
        "plt.scatter(one[\"Recency\"],one[\"Frequency\"],color='green')\n",
        "plt.scatter(two[\"Recency\"],two[\"Frequency\"],color='red')\n",
        "plt.scatter(three[\"Recency\"],three[\"Frequency\"],color='grey')\n",
        "plt.scatter(four[\"Recency\"],four[\"Frequency\"],color='blue')\n",
        "plt.scatter(kmeans.cluster_centers_[:,0],kmeans.cluster_centers_[:,1],color=\"yellow\",marker=\"*\",label=\"centroid\")\n",
        "plt.legend()\n",
        "plt.show"
      ],
      "metadata": {
        "colab": {
          "base_uri": "https://localhost:8080/",
          "height": 614
        },
        "id": "5SrCxGS7w8j4",
        "outputId": "dd5c4a43-8f0d-4c3d-e774-8fff31bd66c7"
      },
      "execution_count": null,
      "outputs": [
        {
          "output_type": "execute_result",
          "data": {
            "text/plain": [
              "<function matplotlib.pyplot.show(close=None, block=None)>"
            ],
            "text/html": [
              "<div style=\"max-width:800px; border: 1px solid var(--colab-border-color);\"><style>\n",
              "      pre.function-repr-contents {\n",
              "        overflow-x: auto;\n",
              "        padding: 8px 12px;\n",
              "        max-height: 500px;\n",
              "      }\n",
              "\n",
              "      pre.function-repr-contents.function-repr-contents-collapsed {\n",
              "        cursor: pointer;\n",
              "        max-height: 100px;\n",
              "      }\n",
              "    </style>\n",
              "    <pre style=\"white-space: initial; background:\n",
              "         var(--colab-secondary-surface-color); padding: 8px 12px;\n",
              "         border-bottom: 1px solid var(--colab-border-color);\"><b>matplotlib.pyplot.show</b><br/>def show(*args, **kwargs)</pre><pre class=\"function-repr-contents function-repr-contents-collapsed\" style=\"\"><a class=\"filepath\" style=\"display:none\" href=\"#\">/usr/local/lib/python3.10/dist-packages/matplotlib/pyplot.py</a>Display all open figures.\n",
              "\n",
              "Parameters\n",
              "----------\n",
              "block : bool, optional\n",
              "    Whether to wait for all figures to be closed before returning.\n",
              "\n",
              "    If `True` block and run the GUI main loop until all figure windows\n",
              "    are closed.\n",
              "\n",
              "    If `False` ensure that all figure windows are displayed and return\n",
              "    immediately.  In this case, you are responsible for ensuring\n",
              "    that the event loop is running to have responsive figures.\n",
              "\n",
              "    Defaults to True in non-interactive mode and to False in interactive\n",
              "    mode (see `.pyplot.isinteractive`).\n",
              "\n",
              "See Also\n",
              "--------\n",
              "ion : Enable interactive mode, which shows / updates the figure after\n",
              "      every plotting command, so that calling ``show()`` is not necessary.\n",
              "ioff : Disable interactive mode.\n",
              "savefig : Save the figure to an image file instead of showing it on screen.\n",
              "\n",
              "Notes\n",
              "-----\n",
              "**Saving figures to file and showing a window at the same time**\n",
              "\n",
              "If you want an image file as well as a user interface window, use\n",
              "`.pyplot.savefig` before `.pyplot.show`. At the end of (a blocking)\n",
              "``show()`` the figure is closed and thus unregistered from pyplot. Calling\n",
              "`.pyplot.savefig` afterwards would save a new and thus empty figure. This\n",
              "limitation of command order does not apply if the show is non-blocking or\n",
              "if you keep a reference to the figure and use `.Figure.savefig`.\n",
              "\n",
              "**Auto-show in jupyter notebooks**\n",
              "\n",
              "The jupyter backends (activated via ``%matplotlib inline``,\n",
              "``%matplotlib notebook``, or ``%matplotlib widget``), call ``show()`` at\n",
              "the end of every cell by default. Thus, you usually don&#x27;t have to call it\n",
              "explicitly there.</pre>\n",
              "      <script>\n",
              "      if (google.colab.kernel.accessAllowed && google.colab.files && google.colab.files.view) {\n",
              "        for (const element of document.querySelectorAll('.filepath')) {\n",
              "          element.style.display = 'block'\n",
              "          element.onclick = (event) => {\n",
              "            event.preventDefault();\n",
              "            event.stopPropagation();\n",
              "            google.colab.files.view(element.textContent, 401);\n",
              "          };\n",
              "        }\n",
              "      }\n",
              "      for (const element of document.querySelectorAll('.function-repr-contents')) {\n",
              "        element.onclick = (event) => {\n",
              "          event.preventDefault();\n",
              "          event.stopPropagation();\n",
              "          element.classList.toggle('function-repr-contents-collapsed');\n",
              "        };\n",
              "      }\n",
              "      </script>\n",
              "      </div>"
            ]
          },
          "metadata": {},
          "execution_count": 44
        },
        {
          "output_type": "display_data",
          "data": {
            "text/plain": [
              "<Figure size 1000x500 with 1 Axes>"
            ],
            "image/png": "[encoded data removed]"
          },
          "metadata": {}
        }
      ]
    },
    {
      "cell_type": "code",
      "source": [
        "#Silhouette Coefficient or silhouette score is a metric used to calculate the goodness of a clustering technique.\n",
        "#Its value ranges from -1 to 1. Score closer to 1, higher the cluster distinguished.\n",
        "from sklearn.metrics import silhouette_score\n",
        "print(\"Silhouette score :\",silhouette_score(RFMT, kmeans.labels_, metric='euclidean'))"
      ],
      "metadata": {
        "colab": {
          "base_uri": "https://localhost:8080/"
        },
        "id": "kLRR_Q5HxQ6w",
        "outputId": "566082f4-b39c-44d7-aa45-ddf5bd9632ff"
      },
      "execution_count": null,
      "outputs": [
        {
          "output_type": "stream",
          "name": "stdout",
          "text": [
            "Silhouette score : 0.9018816038015405\n"
          ]
        }
      ]
    }
  ]
}